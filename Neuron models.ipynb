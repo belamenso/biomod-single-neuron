{
 "cells": [
  {
   "cell_type": "code",
   "execution_count": 43,
   "id": "4f36d553",
   "metadata": {},
   "outputs": [],
   "source": [
    "import brian2 as b2\n",
    "import matplotlib.pyplot as plt\n",
    "import numpy as np\n",
    "import neurodynex3.tools.input_factory as input_factory"
   ]
  },
  {
   "cell_type": "code",
   "execution_count": 44,
   "id": "09f1ad0a",
   "metadata": {},
   "outputs": [],
   "source": [
    "def plot_data(state_monitor, title=None):\n",
    "    \"\"\"Plots the state_monitor variables [\"vm\", \"I_e\", \"m\", \"n\", \"h\"] vs. time.\n",
    "\n",
    "    Args:\n",
    "        state_monitor (StateMonitor): the data to plot\n",
    "        title (string, optional): plot title to display\n",
    "    \"\"\"\n",
    "\n",
    "    plt.subplot(311)\n",
    "    plt.plot(state_monitor.t / b2.ms, state_monitor.vm[0] / b2.mV, lw=2)\n",
    "\n",
    "    plt.xlabel(\"t [ms]\")\n",
    "    plt.ylabel(\"v [mV]\")\n",
    "    plt.grid()\n",
    "\n",
    "    plt.subplot(312)\n",
    "\n",
    "    plt.plot(state_monitor.t / b2.ms, state_monitor.m[0] / b2.volt, \"black\", lw=2)\n",
    "    plt.plot(state_monitor.t / b2.ms, state_monitor.n[0] / b2.volt, \"blue\", lw=2)\n",
    "    plt.plot(state_monitor.t / b2.ms, state_monitor.h[0] / b2.volt, \"red\", lw=2)\n",
    "    plt.xlabel(\"t (ms)\")\n",
    "    plt.ylabel(\"act./inact.\")\n",
    "    plt.legend((\"m\", \"n\", \"h\"))\n",
    "    plt.ylim((0, 1))\n",
    "    plt.grid()\n",
    "\n",
    "    plt.subplot(313)\n",
    "    plt.plot(state_monitor.t / b2.ms, state_monitor.I_e[0] / b2.uamp, lw=2)\n",
    "    plt.axis((\n",
    "        0,\n",
    "        np.max(state_monitor.t / b2.ms),\n",
    "        min(state_monitor.I_e[0] / b2.uamp) * 1.1,\n",
    "        max(state_monitor.I_e[0] / b2.uamp) * 1.1\n",
    "    ))\n",
    "\n",
    "    plt.xlabel(\"t [ms]\")\n",
    "    plt.ylabel(\"I [micro A]\")\n",
    "    plt.grid()\n",
    "\n",
    "    if title is not None:\n",
    "        plt.suptitle(title)\n",
    "\n",
    "    plt.show()"
   ]
  },
  {
   "cell_type": "code",
   "execution_count": 70,
   "id": "862cc3e8",
   "metadata": {},
   "outputs": [],
   "source": [
    "def regular_spiking(input_current, simulation_time):\n",
    "    # neuron parameters\n",
    "    gNa = 50 * b2.msiemens\n",
    "    ENa = 50 * b2.mV\n",
    "    gK  = 5 * b2.msiemens\n",
    "    EK = -90 * b2.mV\n",
    "    \n",
    "    C = 1 * b2.ufarad\n",
    "\n",
    "    eqs = \"\"\"\n",
    "    I_e = input_current(t,i) : amp\n",
    "    I_Na = gNa * m**3 * h * (vm - ENa) : amp\n",
    "    dm/dt = alpham*(1-m)-betam*m : 1\n",
    "    dh/dt = alphah*(1-h)-betah*h : 1\n",
    "    alpham = (-1 * (0.32*(vm+47*mV)) / (exp(-0.25*((vm+47*mV)/mV))-1)  )/mV/ms : Hz\n",
    "    betam = ((0.28 *(vm +20*mV)) / (exp(0.2 * ((vm +20*mV)/mV)) -1) )/mV/ms : Hz\n",
    "    alphah = 0.128*exp(-1*((vm + 43*mV)/mV)/18) /ms    : Hz\n",
    "    betah = 4./(exp(-0.2*((vm + 20*mV)/mV))+1) /ms : Hz\n",
    "    \n",
    "    I_K = gK * n**4 * (vm - EK) : amp\n",
    "    dn/dt = alphan*(1-n)-betan*n : 1\n",
    "    alphan = -1*(0.032*(vm+45*mV))/(exp(-0.2*((vm+45*mV)/mV))-1)  /mV/ms : Hz\n",
    "    betan = (0.5 * exp(-1*(vm +50*mV)/mV/40)) / ms : Hz\n",
    "    \n",
    "    \n",
    "    membrane_Im = I_e + I_Na + I_K : amp\n",
    "    dvm/dt = membrane_Im/C : volt\n",
    "    \"\"\"\n",
    "    \n",
    "    neuron = b2.NeuronGroup(1, eqs, method=\"exponential_euler\")\n",
    "\n",
    "    neuron.vm = -385.410316948573 * b2.mV\n",
    "    neuron.m = 1.9152321314413855e-37\n",
    "    neuron.h = 1\n",
    "    neuron.n = 1.345386283310858e-32\n",
    "\n",
    "    st_mon = b2.StateMonitor(neuron, [\"vm\", \"I_e\", \"I_Na\", \"I_K\", \"m\", \"n\", \"h\"], record=True)\n",
    "\n",
    "    hh_net = b2.Network(neuron)\n",
    "    hh_net.add(st_mon)\n",
    "    hh_net.run(simulation_time)\n",
    "\n",
    "    return st_mon"
   ]
  },
  {
   "cell_type": "code",
   "execution_count": 95,
   "id": "4d673339",
   "metadata": {},
   "outputs": [],
   "source": [
    "def adaptive(input_current, simulation_time):\n",
    "    # neuron parameters\n",
    "    gNa = 50 * b2.msiemens\n",
    "    ENa = 50 * b2.mV\n",
    "    gK  = 5 * b2.msiemens\n",
    "    EK  = -90 * b2.mV\n",
    "    gM  = 0.07 * b2.msiemens\n",
    "    \n",
    "    C = 1 * b2.ufarad\n",
    "\n",
    "    eqs = \"\"\"\n",
    "    I_e = input_current(t,i) : amp\n",
    "    I_Na = gNa * m**3 * h * (vm - ENa) : amp\n",
    "    dm/dt = alpham*(1-m)-betam*m : 1\n",
    "    dh/dt = alphah*(1-h)-betah*h : 1\n",
    "    alpham = (-1 * (0.32*(vm+47*mV)) / (exp(-0.25*((vm+47*mV)/mV))-1)  )/mV/ms : Hz\n",
    "    betam = ((0.28 *(vm +20*mV)) / (exp(0.2 * ((vm +20*mV)/mV)) -1) )/mV/ms : Hz\n",
    "    alphah = 0.128*exp(-1*((vm + 43*mV)/mV)/18) /ms    : Hz\n",
    "    betah = 4./(exp(-0.2*((vm + 20*mV)/mV))+1) /ms : Hz\n",
    "    \n",
    "    I_K = gK * n**4 * (vm - EK) : amp\n",
    "    dn/dt = alphan*(1-n)-betan*n : 1\n",
    "    alphan = -1*(0.032*(vm+45*mV))/(exp(-0.2*((vm+45*mV)/mV))-1)  /mV/ms : Hz\n",
    "    betan = (0.5 * exp(-1*(vm +50*mV)/mV/40)) / ms : Hz\n",
    "    \n",
    "    I_M = gM * p * (vm - EK) : amp\n",
    "    dp/dt = (p_inf - p) / tau_p : 1\n",
    "    p_inf = 1/(exp(-0.1 * (vm+40*mV)/mV)+1) : 1\n",
    "    tau_p = 2000 / (3.3 * exp((vm + 20*mV)/mV/20) + exp(-1*(vm + 20*mV)/mV/20)) * ms : second\n",
    "    \n",
    "    membrane_Im = I_e + I_Na + I_K + I_M : amp\n",
    "    dvm/dt = membrane_Im/C : volt\n",
    "    \"\"\"\n",
    "    \n",
    "    neuron = b2.NeuronGroup(1, eqs, method=\"exponential_euler\")\n",
    "\n",
    "    neuron.vm = -385.410316948573 * b2.mV\n",
    "    neuron.m = 1.9152321314413855e-37\n",
    "    neuron.h = 1\n",
    "    neuron.n = 1.345386283310858e-32\n",
    "    neuron.p = 9.977472413315047e-16\n",
    "\n",
    "    st_mon = b2.StateMonitor(neuron, [\"vm\", \"I_e\", \"I_Na\", \"I_K\", \"I_M\", \"m\", \"n\", \"h\", \"p\"], record=True)\n",
    "\n",
    "    hh_net = b2.Network(neuron)\n",
    "    hh_net.add(st_mon)\n",
    "    hh_net.run(simulation_time)\n",
    "\n",
    "    return st_mon"
   ]
  },
  {
   "cell_type": "markdown",
   "id": "54b9c494",
   "metadata": {},
   "source": [
    "## Finding the initial parameters"
   ]
  },
  {
   "cell_type": "code",
   "execution_count": 96,
   "id": "082517b2",
   "metadata": {},
   "outputs": [
    {
     "name": "stderr",
     "output_type": "stream",
     "text": [
      "WARNING    /tmp/ipykernel_7547/3785065202.py:29: UserWarning: Attempting to set identical bottom == top == 0.0 results in singular transformations; automatically expanding.\n",
      "  plt.axis((\n",
      " [py.warnings]\n"
     ]
    },
    {
     "data": {
      "image/png": "[encoded data removed]",
      "text/plain": [
       "<Figure size 432x288 with 3 Axes>"
      ]
     },
     "metadata": {
      "needs_background": "light"
     },
     "output_type": "display_data"
    }
   ],
   "source": [
    "state_monitor = regular_spiking(input_factory.get_zero_current(), 200 * b2.ms)\n",
    "plot_data(state_monitor, title=\"Neuron\")"
   ]
  },
  {
   "cell_type": "code",
   "execution_count": 97,
   "id": "e796b0f5",
   "metadata": {},
   "outputs": [
    {
     "data": {
      "text/plain": [
       "{'vm': -0.38541032 * volt,\n",
       " 'h': 1.0,\n",
       " 'n': 1.345386283310879e-32,\n",
       " 'm': 1.9152321314414122e-37}"
      ]
     },
     "execution_count": 97,
     "metadata": {},
     "output_type": "execute_result"
    }
   ],
   "source": [
    "{\n",
    "    'vm': state_monitor.vm[0].tolist()[-1],\n",
    "    'h': state_monitor.h[0].tolist()[-1],\n",
    "    'n': state_monitor.n[0].tolist()[-1],\n",
    "    'm': state_monitor.m[0].tolist()[-1],\n",
    "}"
   ]
  },
  {
   "cell_type": "code",
   "execution_count": 98,
   "id": "1e547f58",
   "metadata": {},
   "outputs": [
    {
     "name": "stderr",
     "output_type": "stream",
     "text": [
      "WARNING    /tmp/ipykernel_7547/3785065202.py:29: UserWarning: Attempting to set identical bottom == top == 0.0 results in singular transformations; automatically expanding.\n",
      "  plt.axis((\n",
      " [py.warnings]\n"
     ]
    },
    {
     "data": {
      "image/png": "[encoded data removed]",
      "text/plain": [
       "<Figure size 432x288 with 3 Axes>"
      ]
     },
     "metadata": {
      "needs_background": "light"
     },
     "output_type": "display_data"
    }
   ],
   "source": [
    "state_monitor = adaptive(input_factory.get_zero_current(), 200 * b2.ms)\n",
    "plot_data(state_monitor, title=\"Neuron\")"
   ]
  },
  {
   "cell_type": "code",
   "execution_count": 99,
   "id": "7c3ac021",
   "metadata": {},
   "outputs": [
    {
     "data": {
      "text/plain": [
       "{'vm': -0.38541032 * volt,\n",
       " 'h': 1.0,\n",
       " 'n': 1.345386283310879e-32,\n",
       " 'm': 1.9152321314414122e-37,\n",
       " 'p': 9.977472413315047e-16}"
      ]
     },
     "execution_count": 99,
     "metadata": {},
     "output_type": "execute_result"
    }
   ],
   "source": [
    "{\n",
    "    'vm': state_monitor.vm[0].tolist()[-1],\n",
    "    'h': state_monitor.h[0].tolist()[-1],\n",
    "    'n': state_monitor.n[0].tolist()[-1],\n",
    "    'm': state_monitor.m[0].tolist()[-1],\n",
    "    'p': state_monitor.p[0].tolist()[-1],\n",
    "}"
   ]
  },
  {
   "cell_type": "code",
   "execution_count": null,
   "id": "3b3592e0",
   "metadata": {},
   "outputs": [],
   "source": []
  }
 ],
 "metadata": {
  "kernelspec": {
   "display_name": "Python 3 (ipykernel)",
   "language": "python",
   "name": "python3"
  },
  "language_info": {
   "codemirror_mode": {
    "name": "ipython",
    "version": 3
   },
   "file_extension": ".py",
   "mimetype": "text/x-python",
   "name": "python",
   "nbconvert_exporter": "python",
   "pygments_lexer": "ipython3",
   "version": "3.9.5"
  }
 },
 "nbformat": 4,
 "nbformat_minor": 5
}
